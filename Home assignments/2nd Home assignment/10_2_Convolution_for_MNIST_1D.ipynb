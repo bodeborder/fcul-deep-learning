{
  "cells": [
    {
      "cell_type": "markdown",
      "metadata": {
        "colab_type": "text",
        "id": "view-in-github"
      },
      "source": [
        "<a href=\"https://colab.research.google.com/github/udlbook/udlbook/blob/main/Notebooks/Chap10/10_2_Convolution_for_MNIST_1D.ipynb\" target=\"_parent\"><img src=\"https://colab.research.google.com/assets/colab-badge.svg\" alt=\"Open In Colab\"/></a>"
      ]
    },
    {
      "cell_type": "markdown",
      "metadata": {
        "id": "t9vk9Elugvmi"
      },
      "source": [
        "# **Notebook 10.2: Convolution for MNIST-1D**\n",
        "\n",
        "This notebook investigates a 1D convolutional network for MNIST-1D as in figure 10.7 and 10.8a.\n",
        "\n",
        "Work through the cells below, running each cell in turn. In various places you will see the words \"TO DO\". Follow the instructions at these places and make predictions about what is going to happen or write code to complete the functions.\n",
        "\n",
        "Contact me at udlbookmail@gmail.com if you find any mistakes or have any suggestions.\n",
        "\n"
      ]
    },
    {
      "cell_type": "code",
      "execution_count": 3,
      "metadata": {
        "id": "D5yLObtZCi9J"
      },
      "outputs": [
        {
          "name": "stderr",
          "output_type": "stream",
          "text": [
            "fatal: destination path 'mnist1d' already exists and is not an empty directory.\n"
          ]
        }
      ],
      "source": [
        "# Run this if you're in a Colab to make a local copy of the MNIST 1D repository\n",
        "!git clone https://github.com/greydanus/mnist1d"
      ]
    },
    {
      "cell_type": "code",
      "execution_count": 4,
      "metadata": {
        "id": "YrXWAH7sUWvU"
      },
      "outputs": [],
      "source": [
        "import numpy as np\n",
        "import os\n",
        "import torch, torch.nn as nn\n",
        "from torch.utils.data import TensorDataset, DataLoader\n",
        "from torch.optim.lr_scheduler import StepLR\n",
        "import matplotlib.pyplot as plt\n",
        "import mnist1d\n",
        "import random"
      ]
    },
    {
      "cell_type": "code",
      "execution_count": 5,
      "metadata": {
        "id": "twI72ZCrCt5z"
      },
      "outputs": [
        {
          "name": "stdout",
          "output_type": "stream",
          "text": [
            "Did or could not load data from ./mnist1d_data.pkl. Rebuilding dataset...\n",
            "Examples in training set: 4000\n",
            "Examples in test set: 1000\n",
            "Length of each example: 40\n"
          ]
        }
      ],
      "source": [
        "args = mnist1d.data.get_dataset_args()\n",
        "data = mnist1d.data.get_dataset(args, path='./mnist1d_data.pkl', download=False, regenerate=False)\n",
        "\n",
        "# The training and test input and outputs are in\n",
        "# data['x'], data['y'], data['x_test'], and data['y_test']\n",
        "print(\"Examples in training set: {}\".format(len(data['y'])))\n",
        "print(\"Examples in test set: {}\".format(len(data['y_test'])))\n",
        "print(\"Length of each example: {}\".format(data['x'].shape[-1]))"
      ]
    },
    {
      "cell_type": "code",
      "execution_count": 6,
      "metadata": {
        "id": "8bKADvLHbiV5"
      },
      "outputs": [
        {
          "name": "stdout",
          "output_type": "stream",
          "text": [
            "Train data: 4000 examples (columns), each of which has 40 dimensions (rows)\n",
            "Validation data: 1000 examples (columns), each of which has 40 dimensions (rows)\n"
          ]
        }
      ],
      "source": [
        "# Load in the data\n",
        "train_data_x = data['x'].transpose()\n",
        "train_data_y = data['y']\n",
        "val_data_x = data['x_test'].transpose()\n",
        "val_data_y = data['y_test']\n",
        "# Print out sizes\n",
        "print(\"Train data: %d examples (columns), each of which has %d dimensions (rows)\"%((train_data_x.shape[1],train_data_x.shape[0])))\n",
        "print(\"Validation data: %d examples (columns), each of which has %d dimensions (rows)\"%((val_data_x.shape[1],val_data_x.shape[0])))"
      ]
    },
    {
      "cell_type": "markdown",
      "metadata": {
        "id": "_sFvRDGrl4qe"
      },
      "source": [
        "Define the network"
      ]
    },
    {
      "cell_type": "code",
      "execution_count": 7,
      "metadata": {
        "id": "FslroPJJffrh"
      },
      "outputs": [],
      "source": [
        "# There are 40 input dimensions and 10 output dimensions for this data\n",
        "# The inputs correspond to the 40 offsets in the MNIST1D template.\n",
        "D_i = 40\n",
        "# The outputs correspond to the 10 digits\n",
        "D_o = 10\n",
        "\n",
        "\n",
        "# TODO Create a model with the following layers\n",
        "# 1. Convolutional layer, (input=length 40 and 1 channel, kernel size 3, stride 2, padding=\"valid\", 15 output channels )\n",
        "# 2. ReLU\n",
        "# 3. Convolutional layer, (input=length 19 and 15 channels, kernel size 3, stride 2, padding=\"valid\", 15 output channels )\n",
        "# 4. ReLU\n",
        "# 5. Convolutional layer, (input=length 9 and 15 channels, kernel size 3, stride 2, padding=\"valid\", 15 output channels)\n",
        "# 6. ReLU\n",
        "# 7. Flatten (converts 4x15) to length 60\n",
        "# 8. Linear layer (input size = 60, output size = 10)\n",
        "# References:\n",
        "# https://pytorch.org/docs/1.13/generated/torch.nn.Conv1d.html?highlight=conv1d#torch.nn.Conv1d\n",
        "# https://pytorch.org/docs/stable/generated/torch.nn.Flatten.html\n",
        "# https://pytorch.org/docs/1.13/generated/torch.nn.Linear.html?highlight=linear#torch.nn.Linear\n",
        "\n",
        "# NOTE THAT THE CONVOLUTIONAL LAYERS NEED TO TAKE THE NUMBER OF INPUT CHANNELS AS A PARAMETER\n",
        "# AND NOT THE INPUT SIZE.\n",
        "\n",
        "# Replace the following function:\n",
        "model = nn.Sequential(\n",
        "    nn.Conv1d(in_channels=1, out_channels=15, kernel_size=3, stride=2, padding=0),  # Convolutional layer 1\n",
        "    nn.ReLU(),                                                                      # ReLU activation\n",
        "    nn.Conv1d(in_channels=15, out_channels=15, kernel_size=3, stride=2, padding=0), # Convolutional layer 2\n",
        "    nn.ReLU(),                                                                      # ReLU activation\n",
        "    nn.Conv1d(in_channels=15, out_channels=15, kernel_size=3, stride=2, padding=0), # Convolutional layer 3\n",
        "    nn.ReLU(),                                                                      # ReLU activation\n",
        "    nn.Flatten(),                                                                   # Flatten layer\n",
        "    nn.Linear(60, 10)                                                               # Linear layer\n",
        ")\n",
        "\n",
        "\n"
      ]
    },
    {
      "cell_type": "code",
      "execution_count": 8,
      "metadata": {
        "id": "YgLaex1pfhqz"
      },
      "outputs": [],
      "source": [
        "# He initialization of weights\n",
        "def weights_init(layer_in):\n",
        "  if isinstance(layer_in, nn.Linear):\n",
        "    nn.init.kaiming_uniform_(layer_in.weight)\n",
        "    layer_in.bias.data.fill_(0.0)"
      ]
    },
    {
      "cell_type": "code",
      "execution_count": 9,
      "metadata": {
        "id": "NYw8I_3mmX5c"
      },
      "outputs": [
        {
          "name": "stdout",
          "output_type": "stream",
          "text": [
            "Epoch     0, train loss 1.889027, train error 74.45,  val loss 1.914357, percent error 78.30\n",
            "Epoch     1, train loss 1.467304, train error 59.38,  val loss 1.484723, percent error 62.10\n",
            "Epoch     2, train loss 1.423869, train error 58.35,  val loss 1.441997, percent error 59.30\n",
            "Epoch     3, train loss 1.240912, train error 49.90,  val loss 1.258597, percent error 51.50\n",
            "Epoch     4, train loss 1.244002, train error 52.97,  val loss 1.281290, percent error 55.20\n",
            "Epoch     5, train loss 1.185262, train error 45.53,  val loss 1.202793, percent error 47.80\n",
            "Epoch     6, train loss 1.005534, train error 41.15,  val loss 1.049170, percent error 42.90\n",
            "Epoch     7, train loss 0.973546, train error 39.75,  val loss 1.016237, percent error 43.20\n",
            "Epoch     8, train loss 0.833745, train error 33.97,  val loss 0.875745, percent error 35.60\n",
            "Epoch     9, train loss 0.780276, train error 32.55,  val loss 0.827511, percent error 35.10\n",
            "Epoch    10, train loss 0.749514, train error 28.78,  val loss 0.781459, percent error 31.10\n",
            "Epoch    11, train loss 0.611069, train error 24.05,  val loss 0.676034, percent error 27.60\n",
            "Epoch    12, train loss 0.611993, train error 24.07,  val loss 0.689942, percent error 27.00\n",
            "Epoch    13, train loss 0.568079, train error 22.30,  val loss 0.656481, percent error 25.30\n",
            "Epoch    14, train loss 0.527265, train error 20.30,  val loss 0.644536, percent error 25.30\n",
            "Epoch    15, train loss 0.525048, train error 20.25,  val loss 0.620431, percent error 23.10\n",
            "Epoch    16, train loss 0.418453, train error 15.70,  val loss 0.550324, percent error 19.40\n",
            "Epoch    17, train loss 0.379633, train error 13.95,  val loss 0.493117, percent error 15.20\n",
            "Epoch    18, train loss 0.321442, train error 11.57,  val loss 0.466720, percent error 17.00\n",
            "Epoch    19, train loss 0.309048, train error 10.80,  val loss 0.468235, percent error 16.20\n",
            "Epoch    20, train loss 0.227073, train error 7.57,  val loss 0.381466, percent error 12.10\n",
            "Epoch    21, train loss 0.229648, train error 7.28,  val loss 0.364583, percent error 11.70\n",
            "Epoch    22, train loss 0.198734, train error 6.68,  val loss 0.370494, percent error 12.80\n",
            "Epoch    23, train loss 0.182543, train error 5.82,  val loss 0.349493, percent error 10.70\n",
            "Epoch    24, train loss 0.179759, train error 5.68,  val loss 0.352742, percent error 10.60\n",
            "Epoch    25, train loss 0.195615, train error 6.57,  val loss 0.380402, percent error 11.80\n",
            "Epoch    26, train loss 0.168670, train error 5.35,  val loss 0.322574, percent error 10.40\n",
            "Epoch    27, train loss 0.158845, train error 5.30,  val loss 0.338855, percent error 11.30\n",
            "Epoch    28, train loss 0.158243, train error 5.35,  val loss 0.321721, percent error 11.70\n",
            "Epoch    29, train loss 0.134577, train error 4.32,  val loss 0.314866, percent error 10.50\n",
            "Epoch    30, train loss 0.130332, train error 4.50,  val loss 0.323233, percent error 10.40\n",
            "Epoch    31, train loss 0.131584, train error 4.47,  val loss 0.329676, percent error 12.00\n",
            "Epoch    32, train loss 0.120871, train error 3.90,  val loss 0.318774, percent error 10.20\n",
            "Epoch    33, train loss 0.136507, train error 4.57,  val loss 0.354133, percent error 11.10\n",
            "Epoch    34, train loss 0.116732, train error 3.70,  val loss 0.301725, percent error 9.80\n",
            "Epoch    35, train loss 0.119492, train error 4.28,  val loss 0.333049, percent error 10.70\n",
            "Epoch    36, train loss 0.100519, train error 3.10,  val loss 0.311259, percent error 8.90\n",
            "Epoch    37, train loss 0.104641, train error 3.70,  val loss 0.338697, percent error 10.30\n",
            "Epoch    38, train loss 0.097976, train error 3.10,  val loss 0.329184, percent error 10.90\n",
            "Epoch    39, train loss 0.085009, train error 2.35,  val loss 0.314120, percent error 9.50\n",
            "Epoch    40, train loss 0.078634, train error 2.15,  val loss 0.317377, percent error 9.60\n",
            "Epoch    41, train loss 0.073640, train error 1.97,  val loss 0.311051, percent error 9.30\n",
            "Epoch    42, train loss 0.071261, train error 1.95,  val loss 0.312228, percent error 9.90\n",
            "Epoch    43, train loss 0.072323, train error 2.05,  val loss 0.308854, percent error 9.00\n",
            "Epoch    44, train loss 0.070961, train error 1.78,  val loss 0.329247, percent error 9.80\n",
            "Epoch    45, train loss 0.065892, train error 1.68,  val loss 0.315249, percent error 8.70\n",
            "Epoch    46, train loss 0.065472, train error 1.70,  val loss 0.317234, percent error 9.60\n",
            "Epoch    47, train loss 0.062918, train error 1.57,  val loss 0.318764, percent error 9.50\n",
            "Epoch    48, train loss 0.061295, train error 1.70,  val loss 0.325879, percent error 9.10\n",
            "Epoch    49, train loss 0.059101, train error 1.53,  val loss 0.327327, percent error 9.30\n",
            "Epoch    50, train loss 0.058398, train error 1.57,  val loss 0.325473, percent error 9.30\n",
            "Epoch    51, train loss 0.056939, train error 1.57,  val loss 0.319812, percent error 9.00\n",
            "Epoch    52, train loss 0.058408, train error 1.62,  val loss 0.329998, percent error 9.30\n",
            "Epoch    53, train loss 0.062672, train error 1.78,  val loss 0.345454, percent error 10.00\n",
            "Epoch    54, train loss 0.054351, train error 1.35,  val loss 0.335581, percent error 9.60\n",
            "Epoch    55, train loss 0.054611, train error 1.55,  val loss 0.331485, percent error 9.90\n",
            "Epoch    56, train loss 0.051739, train error 1.35,  val loss 0.341622, percent error 10.20\n",
            "Epoch    57, train loss 0.051137, train error 1.38,  val loss 0.325870, percent error 8.80\n",
            "Epoch    58, train loss 0.055824, train error 1.72,  val loss 0.352606, percent error 9.30\n",
            "Epoch    59, train loss 0.051365, train error 1.30,  val loss 0.346475, percent error 10.00\n",
            "Epoch    60, train loss 0.047339, train error 1.25,  val loss 0.345196, percent error 8.90\n",
            "Epoch    61, train loss 0.044865, train error 1.00,  val loss 0.337341, percent error 9.10\n",
            "Epoch    62, train loss 0.044132, train error 0.95,  val loss 0.341264, percent error 9.30\n",
            "Epoch    63, train loss 0.043382, train error 1.05,  val loss 0.340614, percent error 9.50\n",
            "Epoch    64, train loss 0.043433, train error 0.97,  val loss 0.348288, percent error 9.10\n",
            "Epoch    65, train loss 0.043291, train error 0.97,  val loss 0.354735, percent error 9.40\n",
            "Epoch    66, train loss 0.042419, train error 0.95,  val loss 0.349659, percent error 9.60\n",
            "Epoch    67, train loss 0.041216, train error 0.88,  val loss 0.348470, percent error 9.30\n",
            "Epoch    68, train loss 0.042862, train error 1.05,  val loss 0.359162, percent error 9.50\n",
            "Epoch    69, train loss 0.041960, train error 0.97,  val loss 0.352816, percent error 9.70\n",
            "Epoch    70, train loss 0.039770, train error 0.72,  val loss 0.358577, percent error 9.60\n",
            "Epoch    71, train loss 0.039613, train error 0.82,  val loss 0.350347, percent error 9.10\n",
            "Epoch    72, train loss 0.038579, train error 0.75,  val loss 0.351608, percent error 9.00\n",
            "Epoch    73, train loss 0.039898, train error 0.95,  val loss 0.351116, percent error 9.60\n",
            "Epoch    74, train loss 0.037444, train error 0.65,  val loss 0.359020, percent error 9.20\n",
            "Epoch    75, train loss 0.037254, train error 0.70,  val loss 0.364940, percent error 9.30\n",
            "Epoch    76, train loss 0.037676, train error 0.78,  val loss 0.361515, percent error 9.90\n",
            "Epoch    77, train loss 0.037578, train error 0.75,  val loss 0.365816, percent error 9.50\n",
            "Epoch    78, train loss 0.035620, train error 0.60,  val loss 0.362159, percent error 9.30\n",
            "Epoch    79, train loss 0.035862, train error 0.70,  val loss 0.360981, percent error 9.90\n",
            "Epoch    80, train loss 0.034632, train error 0.57,  val loss 0.362989, percent error 9.40\n",
            "Epoch    81, train loss 0.034381, train error 0.62,  val loss 0.363170, percent error 9.50\n",
            "Epoch    82, train loss 0.034112, train error 0.53,  val loss 0.363595, percent error 9.10\n",
            "Epoch    83, train loss 0.034037, train error 0.47,  val loss 0.369527, percent error 9.60\n",
            "Epoch    84, train loss 0.033884, train error 0.60,  val loss 0.362105, percent error 9.40\n",
            "Epoch    85, train loss 0.033903, train error 0.57,  val loss 0.368264, percent error 9.70\n",
            "Epoch    86, train loss 0.033540, train error 0.62,  val loss 0.366393, percent error 9.30\n",
            "Epoch    87, train loss 0.033380, train error 0.45,  val loss 0.365868, percent error 9.10\n",
            "Epoch    88, train loss 0.033069, train error 0.50,  val loss 0.366350, percent error 9.60\n",
            "Epoch    89, train loss 0.032905, train error 0.50,  val loss 0.367762, percent error 9.30\n",
            "Epoch    90, train loss 0.033008, train error 0.55,  val loss 0.368428, percent error 9.50\n",
            "Epoch    91, train loss 0.032643, train error 0.57,  val loss 0.366066, percent error 9.00\n",
            "Epoch    92, train loss 0.032182, train error 0.57,  val loss 0.369898, percent error 9.60\n",
            "Epoch    93, train loss 0.031970, train error 0.43,  val loss 0.370795, percent error 9.40\n",
            "Epoch    94, train loss 0.032005, train error 0.45,  val loss 0.371961, percent error 9.50\n",
            "Epoch    95, train loss 0.031561, train error 0.60,  val loss 0.371398, percent error 9.40\n",
            "Epoch    96, train loss 0.031912, train error 0.57,  val loss 0.375227, percent error 9.50\n",
            "Epoch    97, train loss 0.031169, train error 0.40,  val loss 0.374758, percent error 9.50\n",
            "Epoch    98, train loss 0.031454, train error 0.38,  val loss 0.377549, percent error 9.60\n",
            "Epoch    99, train loss 0.031402, train error 0.45,  val loss 0.378454, percent error 9.70\n"
          ]
        },
        {
          "data": {
            "image/png": "[encoded data removed]",
            "text/plain": [
              "<Figure size 640x480 with 1 Axes>"
            ]
          },
          "metadata": {},
          "output_type": "display_data"
        }
      ],
      "source": [
        "# choose cross entropy loss function (equation 5.24 in the loss notes)\n",
        "loss_function = nn.CrossEntropyLoss()\n",
        "# construct SGD optimizer and initialize learning rate and momentum\n",
        "optimizer = torch.optim.SGD(model.parameters(), lr = 0.05, momentum=0.9)\n",
        "# object that decreases learning rate by half every 20 epochs\n",
        "scheduler = StepLR(optimizer, step_size=20, gamma=0.5)\n",
        "# create 100 dummy data points and store in data loader class\n",
        "x_train = torch.tensor(train_data_x.transpose().astype('float32'))\n",
        "y_train = torch.tensor(train_data_y.astype('long')).long()\n",
        "x_val= torch.tensor(val_data_x.transpose().astype('float32'))\n",
        "y_val = torch.tensor(val_data_y.astype('long')).long()\n",
        "\n",
        "# load the data into a class that creates the batches\n",
        "data_loader = DataLoader(TensorDataset(x_train,y_train), batch_size=100, shuffle=True, worker_init_fn=np.random.seed(1))\n",
        "\n",
        "# Initialize model weights\n",
        "model.apply(weights_init)\n",
        "\n",
        "# loop over the dataset n_epoch times\n",
        "n_epoch = 100\n",
        "# store the loss and the % correct at each epoch\n",
        "losses_train = np.zeros((n_epoch))\n",
        "errors_train = np.zeros((n_epoch))\n",
        "losses_val = np.zeros((n_epoch))\n",
        "errors_val = np.zeros((n_epoch))\n",
        "\n",
        "for epoch in range(n_epoch):\n",
        "  # loop over batches\n",
        "  for i, data in enumerate(data_loader):\n",
        "    # retrieve inputs and labels for this batch\n",
        "    x_batch, y_batch = data\n",
        "    # zero the parameter gradients\n",
        "    optimizer.zero_grad()\n",
        "    # forward pass -- calculate model output\n",
        "    pred = model(x_batch[:,None,:])\n",
        "    # compute the loss\n",
        "    loss = loss_function(pred, y_batch)\n",
        "    # backward pass\n",
        "    loss.backward()\n",
        "    # SGD update\n",
        "    optimizer.step()\n",
        "\n",
        "  # Run whole dataset to get statistics -- normally wouldn't do this\n",
        "  pred_train = model(x_train[:,None,:])\n",
        "  pred_val = model(x_val[:,None,:])\n",
        "  _, predicted_train_class = torch.max(pred_train.data, 1)\n",
        "  _, predicted_val_class = torch.max(pred_val.data, 1)\n",
        "  errors_train[epoch] = 100 - 100 * (predicted_train_class == y_train).float().sum() / len(y_train)\n",
        "  errors_val[epoch]= 100 - 100 * (predicted_val_class == y_val).float().sum() / len(y_val)\n",
        "  losses_train[epoch] = loss_function(pred_train, y_train).item()\n",
        "  losses_val[epoch]= loss_function(pred_val, y_val).item()\n",
        "  print(f'Epoch {epoch:5d}, train loss {losses_train[epoch]:.6f}, train error {errors_train[epoch]:3.2f},  val loss {losses_val[epoch]:.6f}, percent error {errors_val[epoch]:3.2f}')\n",
        "\n",
        "  # tell scheduler to consider updating learning rate\n",
        "  scheduler.step()\n",
        "\n",
        "# Plot the results\n",
        "fig, ax = plt.subplots()\n",
        "ax.plot(errors_train,'r-',label='train')\n",
        "ax.plot(errors_val,'b-',label='validation')\n",
        "ax.set_ylim(0,100); ax.set_xlim(0,n_epoch)\n",
        "ax.set_xlabel('Epoch'); ax.set_ylabel('Error')\n",
        "ax.set_title('Part I: Validation Result %3.2f'%(errors_val[-1]))\n",
        "ax.legend()\n",
        "plt.show()"
      ]
    }
  ],
  "metadata": {
    "colab": {
      "authorship_tag": "ABX9TyNJodaaCLMRWL9vTl8B/iLI",
      "include_colab_link": true,
      "provenance": []
    },
    "kernelspec": {
      "display_name": "Python 3",
      "name": "python3"
    },
    "language_info": {
      "codemirror_mode": {
        "name": "ipython",
        "version": 3
      },
      "file_extension": ".py",
      "mimetype": "text/x-python",
      "name": "python",
      "nbconvert_exporter": "python",
      "pygments_lexer": "ipython3",
      "version": "3.11.4"
    }
  },
  "nbformat": 4,
  "nbformat_minor": 0
}
